{
 "cells": [
  {
   "cell_type": "code",
   "execution_count": 1,
   "metadata": {},
   "outputs": [
    {
     "name": "stderr",
     "output_type": "stream",
     "text": [
      "/usr/local/lib/python2.7/dist-packages/sklearn/cross_validation.py:41: DeprecationWarning: This module was deprecated in version 0.18 in favor of the model_selection module into which all the refactored classes and functions are moved. Also note that the interface of the new CV iterators are different from that of this module. This module will be removed in 0.20.\n",
      "  \"This module will be removed in 0.20.\", DeprecationWarning)\n"
     ]
    }
   ],
   "source": [
    "import numpy as np\n",
    "from scipy.signal import welch\n",
    "from sklearn.model_selection import train_test_split\n",
    "from sklearn.model_selection import GridSearchCV\n",
    "from sklearn.metrics import classification_report\n",
    "from sklearn import metrics \n",
    "from sklearn.svm import SVC\n",
    "from sklearn.cross_validation import StratifiedKFold"
   ]
  },
  {
   "cell_type": "code",
   "execution_count": 2,
   "metadata": {},
   "outputs": [],
   "source": [
    "\n",
    "#files are separeted by frequency bands\n",
    "X = np.zeros((5,32,40,32,6,1280)) # (frequency bands,person,trials,channels,time(10s))\n",
    "for band in range(5):\n",
    "    X[band] = np.load('X_'+str(band)+'.npy') #last index is all bands, others are in incresing order\n"
   ]
  },
  {
   "cell_type": "code",
   "execution_count": 13,
   "metadata": {},
   "outputs": [],
   "source": [
    "acc_all = []"
   ]
  },
  {
   "cell_type": "code",
   "execution_count": 6,
   "metadata": {},
   "outputs": [],
   "source": [
    "import pandas as pd\n",
    "Y = np.load('Y_4classes.npy')\n",
    "Y_ = Y[:,:,4].reshape((32,-1))\n",
    "data = pd.DataFrame(np.swapaxes(Y[:,:,4].reshape((32,-1)),0,1))\n",
    "df=data.apply(pd.value_counts)\n",
    "Y_cut =(df>5).as_matrix()"
   ]
  },
  {
   "cell_type": "code",
   "execution_count": 7,
   "metadata": {},
   "outputs": [],
   "source": [
    "scoring = ['precision_macro', 'recall_macro', 'f1_macro']\n",
    "bands = [0,1,2,3,4] #4 is all bands\n",
    "classes = [4]\n",
    "channel = [[]]#[2,3,18,19,20],\n",
    "channel_name = ['Frontal','all']\n",
    "bands_name = ['4-8Hz','8-15Hz','15-32Hz','32-40Hz','all bands']\n",
    "classes_name = ['H-Valence, H-Arousal','H-Valence, L-Arousal','L-Valence, H-Arousal','L-Valence, L-Arousal','all classes']\n",
    "c_range=  [1e-2,1e-1, 1,1e1, 1e2]"
   ]
  },
  {
   "cell_type": "code",
   "execution_count": 4,
   "metadata": {},
   "outputs": [],
   "source": [
    "def datagen(data_x,Y_c,c):\n",
    "    pp = np.where(Y_c == True)[0]\n",
    "    temp = np.zeros((len(pp),5,32,6,1280)) \n",
    "    np.random.seed(0)\n",
    "    for i in range(len(pp)):\n",
    "        t = np.where(data.iloc[:,pp[i]]==c)[0]\n",
    "        l = np.random.choice(t,5, replace=False)\n",
    "        temp[i] = data_x[pp[i],l,:,:,:]\n",
    "    return temp,pp"
   ]
  },
  {
   "cell_type": "code",
   "execution_count": 14,
   "metadata": {},
   "outputs": [
    {
     "name": "stdout",
     "output_type": "stream",
     "text": [
      "(32, 40, 32, 6, 1280)\n",
      "(32, 5, 32, 6, 1280)\n",
      "13\n",
      "classes :all classes, Bands: 4-8Hz 32 subjects\n",
      "\n",
      "\n",
      "(32, 40, 32, 6, 1280)\n",
      "(32, 5, 32, 6, 1280)\n",
      "13\n",
      "classes :all classes, Bands: 8-15Hz 32 subjects\n",
      "\n",
      "\n",
      "(32, 40, 32, 6, 1280)\n",
      "(32, 5, 32, 6, 1280)\n",
      "13\n",
      "classes :all classes, Bands: 15-32Hz 32 subjects\n",
      "\n",
      "\n",
      "(32, 40, 32, 6, 1280)\n",
      "(32, 5, 32, 6, 1280)\n",
      "13\n",
      "classes :all classes, Bands: 32-40Hz 32 subjects\n",
      "\n",
      "\n",
      "(32, 40, 32, 6, 1280)\n",
      "(32, 5, 32, 6, 1280)\n",
      "13\n",
      "classes :all classes, Bands: all bands 32 subjects\n",
      "\n",
      "\n"
     ]
    }
   ],
   "source": [
    "score_means = list()\n",
    "score_stds = list()\n",
    "i=0\n",
    "for ch in channel:\n",
    "    for b in bands:\n",
    "        for c in classes:\n",
    "            ch_len = len(ch)\n",
    "            ch_len = 32 if ch_len ==0 else ch_len\n",
    "            \n",
    "            if not ch:#all channels\n",
    "                data_x = X[:,:,:,:,:]\n",
    "            else:\n",
    "                data_x = X[:,:,:,ch,:]\n",
    "\n",
    "            data_x = data_x[b,:,:,:,:]#person, trials,5 bands,channels,time(10s)\n",
    "            print data_x.shape\n",
    "            if c >3:\n",
    "                data_x,y_list = datagen(data_x,Y_cut[3],3)\n",
    "                data_y = np.repeat(y_list,5) #create label\n",
    "                print('classes :%s, Bands: %s %d subjects\\n\\n' % (classes_name[c],bands_name[b],data_x.shape[0]))\n",
    "                _,data_x = welch(data_x, fs=128)\n",
    "                data_x = np.swapaxes(data_x,-2,-3)\n",
    "                data_x = data_x.reshape((32*5,6,ch_len*129))\n",
    "\n",
    "            else:\n",
    "                data_x,y_list = datagen(data_x,Y_cut[c],c)\n",
    "                data_y = np.repeat(y_list,5) #create label\n",
    "                print('\\nChannel:%s, classes :%s, Bands: %s %d subjects\\n' % (channel_name[i],classes_name[c],bands_name[b],data_x.shape[0]))\n",
    "                _,data_x = welch(data_x, fs=128)\n",
    "                data_x = np.swapaxes(data_x,-2,-3)\n",
    "                data_x = data_x.reshape((data_x.shape[0]*5,6,ch_len*129))\n",
    "                    \n",
    "            \n",
    "            np.random.seed(0) #reset random seed for each band, each class\n",
    "#             randomList = [np.random.choice(5,5, replace=False) for i in range(data_x.shape[0])]\n",
    "            skf = StratifiedKFold(data_y,n_folds=5, shuffle=True, random_state=None)\n",
    "            mylist = np.array(list(skf))\n",
    "            kArray = mylist[:,1]\n",
    "            for k in range(5):\n",
    "                train_index = np.concatenate([kArray[i] if i!=k else [] for i in range(5)])\n",
    "                \n",
    "                test_index = kArray[k]\n",
    "                train_index = train_index.astype(int)\n",
    "                test_index = test_index.astype(int)\n",
    "               \n",
    "                X_train, X_val, X_test = data_x[train_index[:-int(len(train_index)/4)]], data_x[train_index[-int(len(train_index)/4):]],data_x[test_index]\n",
    "                y_train, y_val, y_test = data_y[train_index[:-int(len(train_index)/4)]], data_y[train_index[-int(len(train_index)/4):]], data_y[test_index]\n",
    "                X_train = np.reshape(X_train,(-1,ch_len*129))\n",
    "                X_val = np.reshape(X_val,(-1,ch_len*129))\n",
    "                X_test = np.reshape(X_test,(-1,ch_len*129))\n",
    "                y_train = np.repeat(y_train,6)\n",
    "                y_val = np.repeat(y_val,6)\n",
    "                y_test = np.repeat(y_test,6)\n",
    "                acc_val=0\n",
    "                score_acc=0\n",
    "                for c_value in c_range:\n",
    "                    clf = SVC(kernel='linear', C=c_value, random_state=0)\n",
    "                    clf.fit(X_train, y_train)\n",
    "                    acc_temp = clf.score(X_val,y_val)\n",
    "                    if acc_temp > acc_val:\n",
    "                        acc_val = acc_temp\n",
    "                        score_acc = clf.score(X_test, y_test)\n",
    "                        \n",
    "    \n",
    "                acc_all.append([b,c,k,score_acc])\n",
    "\n",
    "\n",
    "                #score_means.append(acc_all)\n",
    "                #score_stds_t.append(scores['test_'+s].std()/np.sqrt(10))\n",
    "                #print('%s   mean: %f +- %f\\n' % (s,scores['test_'+s].mean(),scores['test_'+s].std()/np.sqrt(10)))\n",
    "    i =i+1\n",
    "        "
   ]
  },
  {
   "cell_type": "code",
   "execution_count": 16,
   "metadata": {},
   "outputs": [],
   "source": [
    "np.save('SVM_ACC_ALL_allClassOnly_allBand',acc_all)"
   ]
  },
  {
   "cell_type": "markdown",
   "metadata": {},
   "source": [
    "# Precision\n",
    "Frontal"
   ]
  },
  {
   "cell_type": "code",
   "execution_count": 18,
   "metadata": {},
   "outputs": [
    {
     "ename": "IndexError",
     "evalue": "too many indices for array",
     "output_type": "error",
     "traceback": [
      "\u001b[0;31m---------------------------------------------------------------------------\u001b[0m",
      "\u001b[0;31mIndexError\u001b[0m                                Traceback (most recent call last)",
      "\u001b[0;32m<ipython-input-18-813e61234189>\u001b[0m in \u001b[0;36m<module>\u001b[0;34m()\u001b[0m\n\u001b[1;32m      1\u001b[0m \u001b[0;32mimport\u001b[0m \u001b[0mpandas\u001b[0m \u001b[0;32mas\u001b[0m \u001b[0mpd\u001b[0m\u001b[0;34m\u001b[0m\u001b[0m\n\u001b[0;32m----> 2\u001b[0;31m \u001b[0mdf\u001b[0m \u001b[0;34m=\u001b[0m \u001b[0mpd\u001b[0m\u001b[0;34m.\u001b[0m\u001b[0mDataFrame\u001b[0m\u001b[0;34m(\u001b[0m\u001b[0mscore_means\u001b[0m\u001b[0;34m[\u001b[0m\u001b[0;36m0\u001b[0m\u001b[0;34m,\u001b[0m\u001b[0;34m:\u001b[0m\u001b[0;34m,\u001b[0m\u001b[0;34m:\u001b[0m\u001b[0;34m,\u001b[0m\u001b[0;36m0\u001b[0m\u001b[0;34m]\u001b[0m\u001b[0;34m,\u001b[0m\u001b[0mcolumns\u001b[0m\u001b[0;34m=\u001b[0m\u001b[0mclasses_name\u001b[0m\u001b[0;34m)\u001b[0m\u001b[0;34m\u001b[0m\u001b[0m\n\u001b[0m\u001b[1;32m      3\u001b[0m \u001b[0mdf\u001b[0m\u001b[0;34m[\u001b[0m\u001b[0;34m'bands'\u001b[0m\u001b[0;34m]\u001b[0m \u001b[0;34m=\u001b[0m \u001b[0mpd\u001b[0m\u001b[0;34m.\u001b[0m\u001b[0mDataFrame\u001b[0m\u001b[0;34m(\u001b[0m\u001b[0mbands_name\u001b[0m\u001b[0;34m)\u001b[0m\u001b[0;34m\u001b[0m\u001b[0m\n\u001b[1;32m      4\u001b[0m \u001b[0mdf\u001b[0m\u001b[0;34m\u001b[0m\u001b[0m\n",
      "\u001b[0;31mIndexError\u001b[0m: too many indices for array"
     ]
    }
   ],
   "source": [
    "import pandas as pd\n",
    "df = pd.DataFrame(score_means[0,:,:,0],columns=classes_name)\n",
    "df['bands'] = pd.DataFrame(bands_name)\n",
    "df"
   ]
  },
  {
   "cell_type": "markdown",
   "metadata": {},
   "source": [
    "ALL channels"
   ]
  },
  {
   "cell_type": "code",
   "execution_count": 19,
   "metadata": {},
   "outputs": [
    {
     "ename": "IndexError",
     "evalue": "too many indices for array",
     "output_type": "error",
     "traceback": [
      "\u001b[0;31m---------------------------------------------------------------------------\u001b[0m",
      "\u001b[0;31mIndexError\u001b[0m                                Traceback (most recent call last)",
      "\u001b[0;32m<ipython-input-19-24172f4de8fe>\u001b[0m in \u001b[0;36m<module>\u001b[0;34m()\u001b[0m\n\u001b[1;32m      1\u001b[0m \u001b[0;32mimport\u001b[0m \u001b[0mpandas\u001b[0m \u001b[0;32mas\u001b[0m \u001b[0mpd\u001b[0m\u001b[0;34m\u001b[0m\u001b[0m\n\u001b[0;32m----> 2\u001b[0;31m \u001b[0mdf\u001b[0m \u001b[0;34m=\u001b[0m \u001b[0mpd\u001b[0m\u001b[0;34m.\u001b[0m\u001b[0mDataFrame\u001b[0m\u001b[0;34m(\u001b[0m\u001b[0mscore_means\u001b[0m\u001b[0;34m[\u001b[0m\u001b[0;36m1\u001b[0m\u001b[0;34m,\u001b[0m\u001b[0;34m:\u001b[0m\u001b[0;34m,\u001b[0m\u001b[0;34m:\u001b[0m\u001b[0;34m,\u001b[0m\u001b[0;36m0\u001b[0m\u001b[0;34m]\u001b[0m\u001b[0;34m,\u001b[0m\u001b[0mcolumns\u001b[0m\u001b[0;34m=\u001b[0m\u001b[0mclasses_name\u001b[0m\u001b[0;34m)\u001b[0m\u001b[0;34m\u001b[0m\u001b[0m\n\u001b[0m\u001b[1;32m      3\u001b[0m \u001b[0mdf\u001b[0m\u001b[0;34m[\u001b[0m\u001b[0;34m'bands'\u001b[0m\u001b[0;34m]\u001b[0m \u001b[0;34m=\u001b[0m \u001b[0mpd\u001b[0m\u001b[0;34m.\u001b[0m\u001b[0mDataFrame\u001b[0m\u001b[0;34m(\u001b[0m\u001b[0mbands_name\u001b[0m\u001b[0;34m)\u001b[0m\u001b[0;34m\u001b[0m\u001b[0m\n\u001b[1;32m      4\u001b[0m \u001b[0mdf\u001b[0m\u001b[0;34m\u001b[0m\u001b[0m\n",
      "\u001b[0;31mIndexError\u001b[0m: too many indices for array"
     ]
    }
   ],
   "source": [
    "import pandas as pd\n",
    "df = pd.DataFrame(score_means[1,:,:,0],columns=classes_name)\n",
    "df['bands'] = pd.DataFrame(bands_name)\n",
    "df"
   ]
  },
  {
   "cell_type": "markdown",
   "metadata": {},
   "source": [
    "# Recall\n",
    "frontal"
   ]
  },
  {
   "cell_type": "code",
   "execution_count": 20,
   "metadata": {},
   "outputs": [
    {
     "ename": "IndexError",
     "evalue": "too many indices for array",
     "output_type": "error",
     "traceback": [
      "\u001b[0;31m---------------------------------------------------------------------------\u001b[0m",
      "\u001b[0;31mIndexError\u001b[0m                                Traceback (most recent call last)",
      "\u001b[0;32m<ipython-input-20-37e54a7d8b7e>\u001b[0m in \u001b[0;36m<module>\u001b[0;34m()\u001b[0m\n\u001b[0;32m----> 1\u001b[0;31m \u001b[0mdf\u001b[0m \u001b[0;34m=\u001b[0m \u001b[0mpd\u001b[0m\u001b[0;34m.\u001b[0m\u001b[0mDataFrame\u001b[0m\u001b[0;34m(\u001b[0m\u001b[0mscore_means\u001b[0m\u001b[0;34m[\u001b[0m\u001b[0;36m0\u001b[0m\u001b[0;34m,\u001b[0m\u001b[0;34m:\u001b[0m\u001b[0;34m,\u001b[0m\u001b[0;34m:\u001b[0m\u001b[0;34m,\u001b[0m\u001b[0;36m1\u001b[0m\u001b[0;34m]\u001b[0m\u001b[0;34m,\u001b[0m\u001b[0mcolumns\u001b[0m\u001b[0;34m=\u001b[0m\u001b[0mclasses_name\u001b[0m\u001b[0;34m)\u001b[0m\u001b[0;34m\u001b[0m\u001b[0m\n\u001b[0m\u001b[1;32m      2\u001b[0m \u001b[0mdf\u001b[0m\u001b[0;34m[\u001b[0m\u001b[0;34m'bands'\u001b[0m\u001b[0;34m]\u001b[0m \u001b[0;34m=\u001b[0m \u001b[0mpd\u001b[0m\u001b[0;34m.\u001b[0m\u001b[0mDataFrame\u001b[0m\u001b[0;34m(\u001b[0m\u001b[0mbands_name\u001b[0m\u001b[0;34m)\u001b[0m\u001b[0;34m\u001b[0m\u001b[0m\n\u001b[1;32m      3\u001b[0m \u001b[0mdf\u001b[0m\u001b[0;34m\u001b[0m\u001b[0m\n",
      "\u001b[0;31mIndexError\u001b[0m: too many indices for array"
     ]
    }
   ],
   "source": [
    "df = pd.DataFrame(score_means[0,:,:,1],columns=classes_name)\n",
    "df['bands'] = pd.DataFrame(bands_name)\n",
    "df"
   ]
  },
  {
   "cell_type": "markdown",
   "metadata": {},
   "source": [
    "All channels"
   ]
  },
  {
   "cell_type": "code",
   "execution_count": 21,
   "metadata": {},
   "outputs": [
    {
     "ename": "IndexError",
     "evalue": "too many indices for array",
     "output_type": "error",
     "traceback": [
      "\u001b[0;31m---------------------------------------------------------------------------\u001b[0m",
      "\u001b[0;31mIndexError\u001b[0m                                Traceback (most recent call last)",
      "\u001b[0;32m<ipython-input-21-28dcebc5c686>\u001b[0m in \u001b[0;36m<module>\u001b[0;34m()\u001b[0m\n\u001b[0;32m----> 1\u001b[0;31m \u001b[0mdf\u001b[0m \u001b[0;34m=\u001b[0m \u001b[0mpd\u001b[0m\u001b[0;34m.\u001b[0m\u001b[0mDataFrame\u001b[0m\u001b[0;34m(\u001b[0m\u001b[0mscore_means\u001b[0m\u001b[0;34m[\u001b[0m\u001b[0;36m1\u001b[0m\u001b[0;34m,\u001b[0m\u001b[0;34m:\u001b[0m\u001b[0;34m,\u001b[0m\u001b[0;34m:\u001b[0m\u001b[0;34m,\u001b[0m\u001b[0;36m1\u001b[0m\u001b[0;34m]\u001b[0m\u001b[0;34m,\u001b[0m\u001b[0mcolumns\u001b[0m\u001b[0;34m=\u001b[0m\u001b[0mclasses_name\u001b[0m\u001b[0;34m)\u001b[0m\u001b[0;34m\u001b[0m\u001b[0m\n\u001b[0m\u001b[1;32m      2\u001b[0m \u001b[0mdf\u001b[0m\u001b[0;34m[\u001b[0m\u001b[0;34m'bands'\u001b[0m\u001b[0;34m]\u001b[0m \u001b[0;34m=\u001b[0m \u001b[0mpd\u001b[0m\u001b[0;34m.\u001b[0m\u001b[0mDataFrame\u001b[0m\u001b[0;34m(\u001b[0m\u001b[0mbands_name\u001b[0m\u001b[0;34m)\u001b[0m\u001b[0;34m\u001b[0m\u001b[0m\n\u001b[1;32m      3\u001b[0m \u001b[0mdf\u001b[0m\u001b[0;34m\u001b[0m\u001b[0m\n",
      "\u001b[0;31mIndexError\u001b[0m: too many indices for array"
     ]
    }
   ],
   "source": [
    "df = pd.DataFrame(score_means[1,:,:,1],columns=classes_name)\n",
    "df['bands'] = pd.DataFrame(bands_name)\n",
    "df"
   ]
  },
  {
   "cell_type": "markdown",
   "metadata": {},
   "source": [
    "# Average F1\n",
    "Frontal"
   ]
  },
  {
   "cell_type": "code",
   "execution_count": 22,
   "metadata": {},
   "outputs": [
    {
     "ename": "IndexError",
     "evalue": "too many indices for array",
     "output_type": "error",
     "traceback": [
      "\u001b[0;31m---------------------------------------------------------------------------\u001b[0m",
      "\u001b[0;31mIndexError\u001b[0m                                Traceback (most recent call last)",
      "\u001b[0;32m<ipython-input-22-adadb7b6a4fc>\u001b[0m in \u001b[0;36m<module>\u001b[0;34m()\u001b[0m\n\u001b[0;32m----> 1\u001b[0;31m \u001b[0mdf\u001b[0m \u001b[0;34m=\u001b[0m \u001b[0mpd\u001b[0m\u001b[0;34m.\u001b[0m\u001b[0mDataFrame\u001b[0m\u001b[0;34m(\u001b[0m\u001b[0mscore_means\u001b[0m\u001b[0;34m[\u001b[0m\u001b[0;36m0\u001b[0m\u001b[0;34m,\u001b[0m\u001b[0;34m:\u001b[0m\u001b[0;34m,\u001b[0m\u001b[0;34m:\u001b[0m\u001b[0;34m,\u001b[0m\u001b[0;36m2\u001b[0m\u001b[0;34m]\u001b[0m\u001b[0;34m,\u001b[0m\u001b[0mcolumns\u001b[0m\u001b[0;34m=\u001b[0m\u001b[0mclasses_name\u001b[0m\u001b[0;34m)\u001b[0m\u001b[0;34m\u001b[0m\u001b[0m\n\u001b[0m\u001b[1;32m      2\u001b[0m \u001b[0mdf\u001b[0m\u001b[0;34m[\u001b[0m\u001b[0;34m'bands'\u001b[0m\u001b[0;34m]\u001b[0m \u001b[0;34m=\u001b[0m \u001b[0mpd\u001b[0m\u001b[0;34m.\u001b[0m\u001b[0mDataFrame\u001b[0m\u001b[0;34m(\u001b[0m\u001b[0mbands_name\u001b[0m\u001b[0;34m)\u001b[0m\u001b[0;34m\u001b[0m\u001b[0m\n\u001b[1;32m      3\u001b[0m \u001b[0mdf\u001b[0m\u001b[0;34m\u001b[0m\u001b[0m\n",
      "\u001b[0;31mIndexError\u001b[0m: too many indices for array"
     ]
    }
   ],
   "source": [
    "df = pd.DataFrame(score_means[0,:,:,2],columns=classes_name)\n",
    "df['bands'] = pd.DataFrame(bands_name)\n",
    "df"
   ]
  },
  {
   "cell_type": "markdown",
   "metadata": {},
   "source": [
    "All channels"
   ]
  },
  {
   "cell_type": "code",
   "execution_count": 23,
   "metadata": {},
   "outputs": [
    {
     "ename": "IndexError",
     "evalue": "too many indices for array",
     "output_type": "error",
     "traceback": [
      "\u001b[0;31m---------------------------------------------------------------------------\u001b[0m",
      "\u001b[0;31mIndexError\u001b[0m                                Traceback (most recent call last)",
      "\u001b[0;32m<ipython-input-23-f78a78090ad0>\u001b[0m in \u001b[0;36m<module>\u001b[0;34m()\u001b[0m\n\u001b[0;32m----> 1\u001b[0;31m \u001b[0mdf\u001b[0m \u001b[0;34m=\u001b[0m \u001b[0mpd\u001b[0m\u001b[0;34m.\u001b[0m\u001b[0mDataFrame\u001b[0m\u001b[0;34m(\u001b[0m\u001b[0mscore_means\u001b[0m\u001b[0;34m[\u001b[0m\u001b[0;36m1\u001b[0m\u001b[0;34m,\u001b[0m\u001b[0;34m:\u001b[0m\u001b[0;34m,\u001b[0m\u001b[0;34m:\u001b[0m\u001b[0;34m,\u001b[0m\u001b[0;36m2\u001b[0m\u001b[0;34m]\u001b[0m\u001b[0;34m,\u001b[0m\u001b[0mcolumns\u001b[0m\u001b[0;34m=\u001b[0m\u001b[0mclasses_name\u001b[0m\u001b[0;34m)\u001b[0m\u001b[0;34m\u001b[0m\u001b[0m\n\u001b[0m\u001b[1;32m      2\u001b[0m \u001b[0mdf\u001b[0m\u001b[0;34m[\u001b[0m\u001b[0;34m'bands'\u001b[0m\u001b[0;34m]\u001b[0m \u001b[0;34m=\u001b[0m \u001b[0mpd\u001b[0m\u001b[0;34m.\u001b[0m\u001b[0mDataFrame\u001b[0m\u001b[0;34m(\u001b[0m\u001b[0mbands_name\u001b[0m\u001b[0;34m)\u001b[0m\u001b[0;34m\u001b[0m\u001b[0m\n\u001b[1;32m      3\u001b[0m \u001b[0mdf\u001b[0m\u001b[0;34m\u001b[0m\u001b[0m\n",
      "\u001b[0;31mIndexError\u001b[0m: too many indices for array"
     ]
    }
   ],
   "source": [
    "df = pd.DataFrame(score_means[1,:,:,2],columns=classes_name)\n",
    "df['bands'] = pd.DataFrame(bands_name)\n",
    "df"
   ]
  },
  {
   "cell_type": "code",
   "execution_count": 27,
   "metadata": {},
   "outputs": [
    {
     "data": {
      "text/plain": [
       "[[0, 4, 0, 0.9791666666666666],\n",
       " [0, 4, 1, 0.9739583333333334],\n",
       " [0, 4, 2, 0.9583333333333334],\n",
       " [0, 4, 3, 0.96875],\n",
       " [0, 4, 4, 0.984375],\n",
       " [1, 4, 0, 0.984375],\n",
       " [1, 4, 1, 0.9791666666666666],\n",
       " [1, 4, 2, 0.96875],\n",
       " [1, 4, 3, 0.9739583333333334],\n",
       " [1, 4, 4, 0.984375],\n",
       " [2, 4, 0, 0.9895833333333334],\n",
       " [2, 4, 1, 0.984375],\n",
       " [2, 4, 2, 0.96875],\n",
       " [2, 4, 3, 0.984375],\n",
       " [2, 4, 4, 0.9895833333333334],\n",
       " [3, 4, 0, 0.3229166666666667],\n",
       " [3, 4, 1, 0.3854166666666667],\n",
       " [3, 4, 2, 0.3645833333333333],\n",
       " [3, 4, 3, 0.4114583333333333],\n",
       " [3, 4, 4, 0.4427083333333333],\n",
       " [4, 4, 0, 0.3177083333333333],\n",
       " [4, 4, 1, 0.3854166666666667],\n",
       " [4, 4, 2, 0.359375],\n",
       " [4, 4, 3, 0.40625],\n",
       " [4, 4, 4, 0.4427083333333333]]"
      ]
     },
     "execution_count": 27,
     "metadata": {},
     "output_type": "execute_result"
    }
   ],
   "source": [
    "acc_all"
   ]
  },
  {
   "cell_type": "code",
   "execution_count": null,
   "metadata": {},
   "outputs": [],
   "source": []
  }
 ],
 "metadata": {
  "anaconda-cloud": {},
  "kernelspec": {
   "display_name": "Python 2",
   "language": "python",
   "name": "python2"
  },
  "language_info": {
   "codemirror_mode": {
    "name": "ipython",
    "version": 2
   },
   "file_extension": ".py",
   "mimetype": "text/x-python",
   "name": "python",
   "nbconvert_exporter": "python",
   "pygments_lexer": "ipython2",
   "version": "2.7.12"
  }
 },
 "nbformat": 4,
 "nbformat_minor": 1
}
